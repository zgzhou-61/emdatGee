{
 "cells": [
  {
   "cell_type": "code",
   "execution_count": 1,
   "id": "827a0269-ce03-4fa1-99f3-8ac8b075c2e6",
   "metadata": {},
   "outputs": [],
   "source": [
    "import ee\n",
    "ee.Initialize()\n",
    "#打印出数据信息"
   ]
  },
  {
   "cell_type": "code",
   "execution_count": 10,
   "id": "2ee17894-43fb-46d8-9ac8-2d06af7a65db",
   "metadata": {
    "scrolled": true
   },
   "outputs": [
    {
     "data": {
      "text/html": [
       "\n",
       "            <style>\n",
       "                .geemap-dark {\n",
       "                    --jp-widgets-color: white;\n",
       "                    --jp-widgets-label-color: white;\n",
       "                    --jp-ui-font-color1: white;\n",
       "                    --jp-layout-color2: #454545;\n",
       "                    background-color: #383838;\n",
       "                }\n",
       "                    \n",
       "                .geemap-dark .jupyter-button {\n",
       "                    --jp-layout-color3: #383838;\n",
       "                }\n",
       "                \n",
       "                .geemap-colab {\n",
       "                    background-color: var(--colab-primary-surface-color, white);\n",
       "                }\n",
       "                    \n",
       "                .geemap-colab .jupyter-button {\n",
       "                    --jp-layout-color3: var(--colab-primary-surface-color, white);\n",
       "                }\n",
       "            </style>\n",
       "            "
      ],
      "text/plain": [
       "<IPython.core.display.HTML object>"
      ]
     },
     "metadata": {},
     "output_type": "display_data"
    },
    {
     "data": {
      "application/vnd.jupyter.widget-view+json": {
       "model_id": "036ccb74a427498da4522fe4ab6a3514",
       "version_major": 2,
       "version_minor": 0
      },
      "text/plain": [
       "Map(center=[21, 110.1], controls=(WidgetControl(options=['position', 'transparent_bg'], widget=SearchDataGUI(c…"
      ]
     },
     "execution_count": 10,
     "metadata": {},
     "output_type": "execute_result"
    }
   ],
   "source": [
    "import geemap\n",
    "map = geemap.Map(center=[21, 110.1], zoom=6)\n",
    "map"
   ]
  },
  {
   "cell_type": "code",
   "execution_count": 14,
   "id": "9223778f-a60d-4d36-81bc-f2d7c0a27ee0",
   "metadata": {},
   "outputs": [
    {
     "data": {
      "text/html": [
       "\n",
       "            <style>\n",
       "                .geemap-dark {\n",
       "                    --jp-widgets-color: white;\n",
       "                    --jp-widgets-label-color: white;\n",
       "                    --jp-ui-font-color1: white;\n",
       "                    --jp-layout-color2: #454545;\n",
       "                    background-color: #383838;\n",
       "                }\n",
       "                    \n",
       "                .geemap-dark .jupyter-button {\n",
       "                    --jp-layout-color3: #383838;\n",
       "                }\n",
       "                \n",
       "                .geemap-colab {\n",
       "                    background-color: var(--colab-primary-surface-color, white);\n",
       "                }\n",
       "                    \n",
       "                .geemap-colab .jupyter-button {\n",
       "                    --jp-layout-color3: var(--colab-primary-surface-color, white);\n",
       "                }\n",
       "            </style>\n",
       "            "
      ],
      "text/plain": [
       "<IPython.core.display.HTML object>"
      ]
     },
     "metadata": {},
     "output_type": "display_data"
    }
   ],
   "source": [
    "p1 = ee.Geometry.Point([7.305, 100.061])\n",
    "p2 = ee.Geometry.Point([8.305, 101.061])\n",
    "\n",
    "roi = ee.FeatureCollection(ee.List([ee.Feature(p1).set('name', 'p1'),\n",
    "                                    ee.Feature(p2).set('name', 'p2')]))\n",
    "\n",
    "dataset = ee.ImageCollection('LANDSAT/LC08/C02/T1')\\\n",
    "    .filterBounds(roi)\\\n",
    "    .filterDate('2017-01-30', '2017-9-20')\n",
    "\n",
    "map.add_layer(p1)"
   ]
  },
  {
   "cell_type": "code",
   "execution_count": 3,
   "id": "55c91ef8-1374-40d6-be58-e98c82080b81",
   "metadata": {},
   "outputs": [
    {
     "data": {
      "text/html": [
       "\n",
       "            <style>\n",
       "                .geemap-dark {\n",
       "                    --jp-widgets-color: white;\n",
       "                    --jp-widgets-label-color: white;\n",
       "                    --jp-ui-font-color1: white;\n",
       "                    --jp-layout-color2: #454545;\n",
       "                    background-color: #383838;\n",
       "                }\n",
       "                    \n",
       "                .geemap-dark .jupyter-button {\n",
       "                    --jp-layout-color3: #383838;\n",
       "                }\n",
       "                \n",
       "                .geemap-colab {\n",
       "                    background-color: var(--colab-primary-surface-color, white);\n",
       "                }\n",
       "                    \n",
       "                .geemap-colab .jupyter-button {\n",
       "                    --jp-layout-color3: var(--colab-primary-surface-color, white);\n",
       "                }\n",
       "            </style>\n",
       "            "
      ],
      "text/plain": [
       "<IPython.core.display.HTML object>"
      ]
     },
     "metadata": {},
     "output_type": "display_data"
    }
   ],
   "source": [
    "\n",
    "\n",
    "roi = ee.Geometry.Polygon(\n",
    "    [[[103.755, 33.293],\n",
    "          [103.755, 33.093],\n",
    "          [103.955, 33.093],\n",
    "          [103.955, 33.295]]], None, False)\n",
    "\n",
    "landsat_vis = {\n",
    "    'bands': ['SR_B4', 'SR_B3', 'SR_B2'],\n",
    "    'gamma': 1.4\n",
    "}\n",
    "\n",
    "dataset = ee.ImageCollection('LANDSAT/LC08/C02/T1').filterBounds(roi).filterDate('2017-01-30', '2017-9-20')\n",
    "\n",
    "# Create a cloud-free composite with default parameters.\n",
    "composite = ee.Algorithms.Landsat.simpleComposite(dataset)\n",
    "\n",
    "# Create a cloud-free composite with custom parameters for\n",
    "# cloud score threshold and percentile.\n",
    "customComposite = ee.Algorithms.Landsat.simpleComposite(**{\n",
    "  'collection': dataset,\n",
    "  'percentile': 75,\n",
    "  'cloudScoreRange': 5\n",
    "})\n",
    "\n",
    "# map.centerObject(roi, 12)\n",
    "map.addLayer(composite, {'bands': ['B4',  'B3',  'B2'], 'max': 128}, 'TOA composite')\n",
    "map.addLayer(customComposite, {'bands': ['B4',  'B3',  'B2'], 'max': 128},\n",
    "    'Custom TOA composite')\n",
    "map.centerObject(roi)\n",
    "\n",
    "# print(customComposite)\n",
    "\n"
   ]
  },
  {
   "cell_type": "code",
   "execution_count": 6,
   "id": "5dfb6e32-f6ec-47d3-9fe7-52ce42911534",
   "metadata": {},
   "outputs": [
    {
     "data": {
      "text/html": [
       "\n",
       "            <style>\n",
       "                .geemap-dark {\n",
       "                    --jp-widgets-color: white;\n",
       "                    --jp-widgets-label-color: white;\n",
       "                    --jp-ui-font-color1: white;\n",
       "                    --jp-layout-color2: #454545;\n",
       "                    background-color: #383838;\n",
       "                }\n",
       "                    \n",
       "                .geemap-dark .jupyter-button {\n",
       "                    --jp-layout-color3: #383838;\n",
       "                }\n",
       "                \n",
       "                .geemap-colab {\n",
       "                    background-color: var(--colab-primary-surface-color, white);\n",
       "                }\n",
       "                    \n",
       "                .geemap-colab .jupyter-button {\n",
       "                    --jp-layout-color3: var(--colab-primary-surface-color, white);\n",
       "                }\n",
       "            </style>\n",
       "            "
      ],
      "text/plain": [
       "<IPython.core.display.HTML object>"
      ]
     },
     "metadata": {},
     "output_type": "display_data"
    },
    {
     "name": "stdout",
     "output_type": "stream",
     "text": [
      "data/\n",
      "<class 'ee.image.Image'>\n",
      "Generating URL ...\n",
      "Downloading data from https://earthengine.googleapis.com/v1/projects/earthengine-legacy/thumbnails/0fea3ca984b8eb2d040ec4eb314a3b1c-6f5fb66e96ccb947fd03a88f02ab4ee2:getPixels\n",
      "Please wait ...\n",
      "Data downloaded to D:\\study\\Workspace\\pyhton\\gee\\data\\test.tif\n"
     ]
    }
   ],
   "source": [
    "import os\n",
    "# out_dir = os.path.join(os.path.expanduser('~'), 'Downloads')\n",
    "out_dir = 'data/'\n",
    "print(out_dir)\n",
    "print(type(customComposite))\n",
    "geemap.ee_export_image(customComposite, filename =  out_dir+'test.tif', scale = 90, region = roi)\n"
   ]
  },
  {
   "cell_type": "code",
   "execution_count": null,
   "id": "428ea297-503c-4d3c-9f97-590fa0dd3d3c",
   "metadata": {},
   "outputs": [],
   "source": [
    "p1 = ee.Geometry.Point()"
   ]
  },
  {
   "cell_type": "code",
   "execution_count": null,
   "id": "0490f642-8c55-4ac6-868d-5ccb15df260f",
   "metadata": {},
   "outputs": [],
   "source": [
    "geemap.extract_pixel_values"
   ]
  }
 ],
 "metadata": {
  "kernelspec": {
   "display_name": "geepy",
   "language": "python",
   "name": "geepy"
  },
  "language_info": {
   "codemirror_mode": {
    "name": "ipython",
    "version": 3
   },
   "file_extension": ".py",
   "mimetype": "text/x-python",
   "name": "python",
   "nbconvert_exporter": "python",
   "pygments_lexer": "ipython3",
   "version": "3.11.4"
  }
 },
 "nbformat": 4,
 "nbformat_minor": 5
}
