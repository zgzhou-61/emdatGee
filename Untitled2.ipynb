{
 "cells": [
  {
   "cell_type": "code",
   "execution_count": 2,
   "id": "84513d78-b2ce-4ddb-889b-79f56172f02d",
   "metadata": {},
   "outputs": [
    {
     "data": {
      "text/html": [
       "\n",
       "            <style>\n",
       "                .geemap-dark {\n",
       "                    --jp-widgets-color: white;\n",
       "                    --jp-widgets-label-color: white;\n",
       "                    --jp-ui-font-color1: white;\n",
       "                    --jp-layout-color2: #454545;\n",
       "                    background-color: #383838;\n",
       "                }\n",
       "                    \n",
       "                .geemap-dark .jupyter-button {\n",
       "                    --jp-layout-color3: #383838;\n",
       "                }\n",
       "                \n",
       "                .geemap-colab {\n",
       "                    background-color: var(--colab-primary-surface-color, white);\n",
       "                }\n",
       "                    \n",
       "                .geemap-colab .jupyter-button {\n",
       "                    --jp-layout-color3: var(--colab-primary-surface-color, white);\n",
       "                }\n",
       "            </style>\n",
       "            "
      ],
      "text/plain": [
       "<IPython.core.display.HTML object>"
      ]
     },
     "metadata": {},
     "output_type": "display_data"
    },
    {
     "name": "stdout",
     "output_type": "stream",
     "text": [
      "Generating URL ...\n",
      "Downloading data from https://earthengine.googleapis.com/v1/projects/earthengine-legacy/thumbnails/0fe36fc9e65cb7bdd6d54224ef85a05a-781144c7cd4655baccb6fd01fef4e54a:getPixels\n",
      "Please wait ...\n",
      "Data downloaded to D:\\study\\Workspace\\pyhton\\gee\\data\\LAST08C2T1-2017-7-01-2017-8-08.tif\n"
     ]
    }
   ],
   "source": [
    "import geemap\n",
    "import ee\n",
    "import time\n",
    "\n",
    "def getLadst8Img(roi, time):\n",
    "    # set imageCollection\n",
    "    dataset = ee.ImageCollection('LANDSAT/LC08/C02/T1') \\\n",
    "        .filterBounds(roi) \\\n",
    "        .filterDate(time[0], time[1])\n",
    "\n",
    "    # Create a cloud-free composite with default parameters.\n",
    "    composite = ee.Algorithms.Landsat.simpleComposite(dataset)\n",
    "\n",
    "    # Create a cloud-free composite with custom parameters for\n",
    "    # cloud score threshold and percentile.\n",
    "    customComposite = ee.Algorithms.Landsat.simpleComposite(**{\n",
    "        'collection': dataset,\n",
    "        'percentile': 75,\n",
    "        'cloudScoreRange': 5\n",
    "    })\n",
    "\n",
    "    return customComposite\n",
    "\n",
    "\n",
    "\n",
    "def getImgFromGee(roi_axis, time, roi_range = 10, collection = 'landsat8', scale = 20, out_dir = 'data'):\n",
    "\n",
    "    # check roi_axis[lat, lon]\n",
    "    if roi_axis[0] < -90.0 or roi_axis[0] > 90.0 or roi_axis[1] > 180.0 or roi_axis[1] < -180:\n",
    "        print(\"Wrong roi_axis(latitude, longitude), -90.0<=lat<=90.0, -180.0<=lon<=180.0!\")\n",
    "        return \n",
    "\n",
    "\n",
    "    # check time\n",
    "    #\n",
    "\n",
    "\n",
    "    lat = roi_axis[0]\n",
    "    lon = roi_axis[1]\n",
    "    # set region\n",
    "    roi = ee.Geometry.Polygon(\n",
    "        [[[lon - roi_range / 100, lat + roi_range / 100],\n",
    "          [lon - roi_range / 100, lat - roi_range / 100],\n",
    "          [lon + roi_range / 100, lat - roi_range / 100],\n",
    "          [lon + roi_range / 100, lat + roi_range / 100]]], None, False)\n",
    "\n",
    "\n",
    "    if collection == 'landsat8':\n",
    "        filename = '{}/LAST08C2T1-{}-{}.tif'.format(out_dir, time[0], time[1])\n",
    "        geemap.ee_export_image(getLadst8Img(roi, time), filename=filename,\n",
    "                               scale=scale, region=roi)\n",
    "\n",
    "\n",
    "\n",
    "\n",
    "if __name__ == '__main__':\n",
    "    ee.Initialize()\n",
    "    getImgFromGee([7.305, 100.061], ['2017-7-01', '2017-8-08'], scale=90)"
   ]
  },
  {
   "cell_type": "code",
   "execution_count": null,
   "id": "47c2b6d8-3844-44cf-a8ba-28bcc5bf8366",
   "metadata": {},
   "outputs": [],
   "source": []
  }
 ],
 "metadata": {
  "kernelspec": {
   "display_name": "geepy",
   "language": "python",
   "name": "geepy"
  },
  "language_info": {
   "codemirror_mode": {
    "name": "ipython",
    "version": 3
   },
   "file_extension": ".py",
   "mimetype": "text/x-python",
   "name": "python",
   "nbconvert_exporter": "python",
   "pygments_lexer": "ipython3",
   "version": "3.11.4"
  }
 },
 "nbformat": 4,
 "nbformat_minor": 5
}
